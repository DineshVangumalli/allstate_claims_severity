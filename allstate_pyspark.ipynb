{
 "cells": [
  {
   "cell_type": "code",
   "execution_count": 1,
   "metadata": {
    "collapsed": true
   },
   "outputs": [],
   "source": [
    "# loading required modules\n",
    "import pandas as pd\n",
    "import numpy as np\n",
    "import matplotlib.pylab as plt\n",
    "import seaborn as sns\n",
    "import math\n",
    "%matplotlib inline"
   ]
  },
  {
   "cell_type": "code",
   "execution_count": 1,
   "metadata": {},
   "outputs": [
    {
     "data": {
      "text/html": [
       "\n",
       "        <div>\n",
       "            <p><b>SparkContext</b></p>\n",
       "\n",
       "            <p><a href=\"http://192.168.1.11:4040\">Spark UI</a></p>\n",
       "\n",
       "            <dl>\n",
       "              <dt>Version</dt>\n",
       "                <dd><code>v2.2.1</code></dd>\n",
       "              <dt>Master</dt>\n",
       "                <dd><code>local[*]</code></dd>\n",
       "              <dt>AppName</dt>\n",
       "                <dd><code>PySparkShell</code></dd>\n",
       "            </dl>\n",
       "        </div>\n",
       "        "
      ],
      "text/plain": [
       "<SparkContext master=local[*] appName=PySparkShell>"
      ]
     },
     "execution_count": 1,
     "metadata": {},
     "output_type": "execute_result"
    }
   ],
   "source": [
    "sc"
   ]
  },
  {
   "cell_type": "code",
   "execution_count": 2,
   "metadata": {
    "collapsed": true
   },
   "outputs": [],
   "source": [
    "train_data = spark.read.csv('data/train.csv', header=True, inferSchema=True)"
   ]
  },
  {
   "cell_type": "code",
   "execution_count": 3,
   "metadata": {
    "collapsed": true
   },
   "outputs": [],
   "source": [
    "test_data = spark.read.csv('data/test.csv', header=True, inferSchema=True)"
   ]
  },
  {
   "cell_type": "code",
   "execution_count": 4,
   "metadata": {},
   "outputs": [
    {
     "name": "stdout",
     "output_type": "stream",
     "text": [
      "+---+----+----+----+----+----+----+----+----+----+-----+-----+-----+-----+-----+-----+-----+-----+-----+-----+-----+-----+-----+-----+-----+-----+-----+-----+-----+-----+-----+-----+-----+-----+-----+-----+-----+-----+-----+-----+-----+-----+-----+-----+-----+-----+-----+-----+-----+-----+-----+-----+-----+-----+-----+-----+-----+-----+-----+-----+-----+-----+-----+-----+-----+-----+-----+-----+-----+-----+-----+-----+-----+-----+-----+-----+-----+-----+-----+-----+-----+-----+-----+-----+-----+-----+-----+-----+-----+-----+-----+-----+-----+-----+-----+-----+-----+-----+-----+-----+------+------+------+------+------+------+------+------+------+------+------+------+------+------+------+------+------+--------+--------+--------+--------+--------+--------+--------+-------+-------+-------+--------+--------+--------+--------+-------+-----+\n",
      "| id|cat1|cat2|cat3|cat4|cat5|cat6|cat7|cat8|cat9|cat10|cat11|cat12|cat13|cat14|cat15|cat16|cat17|cat18|cat19|cat20|cat21|cat22|cat23|cat24|cat25|cat26|cat27|cat28|cat29|cat30|cat31|cat32|cat33|cat34|cat35|cat36|cat37|cat38|cat39|cat40|cat41|cat42|cat43|cat44|cat45|cat46|cat47|cat48|cat49|cat50|cat51|cat52|cat53|cat54|cat55|cat56|cat57|cat58|cat59|cat60|cat61|cat62|cat63|cat64|cat65|cat66|cat67|cat68|cat69|cat70|cat71|cat72|cat73|cat74|cat75|cat76|cat77|cat78|cat79|cat80|cat81|cat82|cat83|cat84|cat85|cat86|cat87|cat88|cat89|cat90|cat91|cat92|cat93|cat94|cat95|cat96|cat97|cat98|cat99|cat100|cat101|cat102|cat103|cat104|cat105|cat106|cat107|cat108|cat109|cat110|cat111|cat112|cat113|cat114|cat115|cat116|   cont1|   cont2|   cont3|   cont4|   cont5|   cont6|   cont7|  cont8|  cont9| cont10|  cont11|  cont12|  cont13|  cont14|   loss|_c132|\n",
      "+---+----+----+----+----+----+----+----+----+----+-----+-----+-----+-----+-----+-----+-----+-----+-----+-----+-----+-----+-----+-----+-----+-----+-----+-----+-----+-----+-----+-----+-----+-----+-----+-----+-----+-----+-----+-----+-----+-----+-----+-----+-----+-----+-----+-----+-----+-----+-----+-----+-----+-----+-----+-----+-----+-----+-----+-----+-----+-----+-----+-----+-----+-----+-----+-----+-----+-----+-----+-----+-----+-----+-----+-----+-----+-----+-----+-----+-----+-----+-----+-----+-----+-----+-----+-----+-----+-----+-----+-----+-----+-----+-----+-----+-----+-----+-----+-----+------+------+------+------+------+------+------+------+------+------+------+------+------+------+------+------+------+--------+--------+--------+--------+--------+--------+--------+-------+-------+-------+--------+--------+--------+--------+-------+-----+\n",
      "|  1|   A|   B|   A|   B|   A|   A|   A|   A|   B|    A|    B|    A|    A|    A|    A|    A|    A|    A|    A|    A|    A|    A|    B|    A|    A|    A|    A|    A|    A|    A|    A|    A|    A|    A|    A|    A|    A|    A|    A|    A|    A|    A|    A|    A|    A|    A|    A|    A|    A|    A|    A|    A|    A|    A|    A|    A|    A|    A|    A|    A|    A|    A|    A|    A|    A|    A|    A|    A|    A|    A|    A|    A|    A|    A|    B|    A|    D|    B|    B|    D|    D|    B|    D|    C|    B|    D|    B|    A|    A|    A|    A|    A|    D|    B|    C|    E|    A|    C|    T|     B|     G|     A|     A|     I|     E|     G|     J|     G|    BU|    BC|     C|    AS|     S|     A|     O|    LB|  0.7263|0.245921|0.187583|0.789639|0.310061|0.718367| 0.33506| 0.3026|0.67135| 0.8351|0.569745|0.594646|0.822493|0.714843|2213.18| null|\n",
      "|  2|   A|   B|   A|   A|   A|   A|   A|   A|   B|    B|    A|    A|    A|    A|    A|    A|    A|    A|    A|    A|    A|    A|    A|    A|    A|    A|    A|    A|    A|    A|    A|    A|    A|    A|    A|    A|    A|    A|    A|    A|    A|    A|    A|    A|    A|    A|    A|    A|    A|    A|    A|    A|    A|    A|    A|    A|    A|    A|    A|    A|    A|    A|    A|    A|    A|    A|    A|    A|    A|    A|    A|    A|    A|    A|    A|    A|    D|    B|    B|    D|    D|    A|    B|    C|    B|    D|    B|    A|    A|    A|    A|    A|    D|    D|    C|    E|    E|    D|    T|     L|     F|     A|     A|     E|     E|     I|     K|     K|    BI|    CQ|     A|    AV|    BM|     A|     O|    DP|0.330514|0.737068|0.592681|0.614134|0.885834|0.438917|0.436585|0.60087|0.35127|0.43919|0.338312|0.366307|0.611431|0.304496| 1283.6| null|\n",
      "|  5|   A|   B|   A|   A|   B|   A|   A|   A|   B|    B|    B|    B|    B|    A|    A|    A|    A|    A|    A|    A|    A|    A|    A|    A|    A|    A|    A|    A|    A|    A|    A|    A|    A|    A|    A|    B|    A|    A|    A|    A|    A|    A|    A|    A|    A|    A|    A|    A|    A|    A|    A|    A|    A|    A|    A|    A|    A|    A|    A|    A|    A|    A|    A|    A|    A|    A|    A|    A|    A|    A|    A|    A|    A|    A|    A|    A|    D|    B|    B|    B|    D|    B|    D|    C|    B|    B|    B|    A|    A|    A|    A|    A|    D|    D|    C|    E|    E|    A|    D|     L|     O|     A|     B|     E|     F|     H|     F|     A|    AB|    DK|     A|     C|    AF|     A|     I|    GK|0.261841|0.358319|0.484196|0.236924|0.397069|0.289648|0.315545| 0.2732|0.26076|0.32446|0.381398|0.373424|0.195709|0.774425|3005.09| null|\n",
      "| 10|   B|   B|   A|   B|   A|   A|   A|   A|   B|    A|    A|    A|    A|    A|    A|    A|    A|    A|    A|    A|    A|    A|    B|    A|    A|    A|    A|    A|    A|    A|    A|    A|    A|    A|    A|    A|    A|    A|    A|    A|    A|    A|    A|    A|    A|    A|    A|    A|    A|    A|    A|    A|    A|    A|    A|    A|    A|    A|    A|    A|    A|    A|    A|    A|    A|    A|    A|    A|    A|    A|    A|    A|    B|    A|    A|    A|    D|    B|    B|    D|    D|    D|    B|    C|    B|    D|    B|    A|    A|    A|    A|    A|    D|    D|    C|    E|    E|    D|    T|     I|     D|     A|     A|     E|     E|     I|     K|     K|    BI|    CS|     C|     N|    AE|     A|     O|    DJ|0.321594|0.555782|0.527991|0.373816|0.422268|0.440945|0.391128|0.31796|0.32128|0.44467|0.327915| 0.32157|0.605077|0.602642| 939.85| null|\n",
      "| 11|   A|   B|   A|   B|   A|   A|   A|   A|   B|    B|    A|    B|    A|    A|    A|    A|    A|    A|    A|    A|    A|    A|    B|    A|    A|    A|    A|    A|    A|    A|    A|    A|    A|    A|    A|    A|    A|    A|    A|    A|    A|    A|    A|    A|    A|    A|    A|    A|    A|    A|    A|    A|    A|    A|    A|    A|    A|    A|    A|    A|    A|    A|    A|    A|    A|    A|    A|    A|    A|    A|    A|    B|    A|    A|    A|    A|    D|    B|    D|    B|    D|    B|    B|    C|    B|    B|    C|    A|    A|    A|    B|    H|    D|    B|    D|    E|    E|    A|    P|     F|     J|     A|     A|     D|     E|     K|     G|     B|     H|     C|     C|     Y|    BM|     A|     K|    CK|0.273204| 0.15999|0.527991|0.473202|0.704268|0.178193|0.247408|0.24564|0.22089| 0.2123|0.204687|0.202213|0.246011|0.432606|2763.85| null|\n",
      "+---+----+----+----+----+----+----+----+----+----+-----+-----+-----+-----+-----+-----+-----+-----+-----+-----+-----+-----+-----+-----+-----+-----+-----+-----+-----+-----+-----+-----+-----+-----+-----+-----+-----+-----+-----+-----+-----+-----+-----+-----+-----+-----+-----+-----+-----+-----+-----+-----+-----+-----+-----+-----+-----+-----+-----+-----+-----+-----+-----+-----+-----+-----+-----+-----+-----+-----+-----+-----+-----+-----+-----+-----+-----+-----+-----+-----+-----+-----+-----+-----+-----+-----+-----+-----+-----+-----+-----+-----+-----+-----+-----+-----+-----+-----+-----+-----+------+------+------+------+------+------+------+------+------+------+------+------+------+------+------+------+------+--------+--------+--------+--------+--------+--------+--------+-------+-------+-------+--------+--------+--------+--------+-------+-----+\n",
      "only showing top 5 rows\n",
      "\n"
     ]
    }
   ],
   "source": [
    "train_data.show(5)"
   ]
  },
  {
   "cell_type": "code",
   "execution_count": 5,
   "metadata": {},
   "outputs": [
    {
     "name": "stdout",
     "output_type": "stream",
     "text": [
      "root\n",
      " |-- id: string (nullable = true)\n",
      " |-- cat1: string (nullable = true)\n",
      " |-- cat2: string (nullable = true)\n",
      " |-- cat3: string (nullable = true)\n",
      " |-- cat4: string (nullable = true)\n",
      " |-- cat5: string (nullable = true)\n",
      " |-- cat6: string (nullable = true)\n",
      " |-- cat7: string (nullable = true)\n",
      " |-- cat8: string (nullable = true)\n",
      " |-- cat9: string (nullable = true)\n",
      " |-- cat10: string (nullable = true)\n",
      " |-- cat11: string (nullable = true)\n",
      " |-- cat12: string (nullable = true)\n",
      " |-- cat13: string (nullable = true)\n",
      " |-- cat14: string (nullable = true)\n",
      " |-- cat15: string (nullable = true)\n",
      " |-- cat16: string (nullable = true)\n",
      " |-- cat17: string (nullable = true)\n",
      " |-- cat18: string (nullable = true)\n",
      " |-- cat19: string (nullable = true)\n",
      " |-- cat20: string (nullable = true)\n",
      " |-- cat21: string (nullable = true)\n",
      " |-- cat22: string (nullable = true)\n",
      " |-- cat23: string (nullable = true)\n",
      " |-- cat24: string (nullable = true)\n",
      " |-- cat25: string (nullable = true)\n",
      " |-- cat26: string (nullable = true)\n",
      " |-- cat27: string (nullable = true)\n",
      " |-- cat28: string (nullable = true)\n",
      " |-- cat29: string (nullable = true)\n",
      " |-- cat30: string (nullable = true)\n",
      " |-- cat31: string (nullable = true)\n",
      " |-- cat32: string (nullable = true)\n",
      " |-- cat33: string (nullable = true)\n",
      " |-- cat34: string (nullable = true)\n",
      " |-- cat35: string (nullable = true)\n",
      " |-- cat36: string (nullable = true)\n",
      " |-- cat37: string (nullable = true)\n",
      " |-- cat38: string (nullable = true)\n",
      " |-- cat39: string (nullable = true)\n",
      " |-- cat40: string (nullable = true)\n",
      " |-- cat41: string (nullable = true)\n",
      " |-- cat42: string (nullable = true)\n",
      " |-- cat43: string (nullable = true)\n",
      " |-- cat44: string (nullable = true)\n",
      " |-- cat45: string (nullable = true)\n",
      " |-- cat46: string (nullable = true)\n",
      " |-- cat47: string (nullable = true)\n",
      " |-- cat48: string (nullable = true)\n",
      " |-- cat49: string (nullable = true)\n",
      " |-- cat50: string (nullable = true)\n",
      " |-- cat51: string (nullable = true)\n",
      " |-- cat52: string (nullable = true)\n",
      " |-- cat53: string (nullable = true)\n",
      " |-- cat54: string (nullable = true)\n",
      " |-- cat55: string (nullable = true)\n",
      " |-- cat56: string (nullable = true)\n",
      " |-- cat57: string (nullable = true)\n",
      " |-- cat58: string (nullable = true)\n",
      " |-- cat59: string (nullable = true)\n",
      " |-- cat60: string (nullable = true)\n",
      " |-- cat61: string (nullable = true)\n",
      " |-- cat62: string (nullable = true)\n",
      " |-- cat63: string (nullable = true)\n",
      " |-- cat64: string (nullable = true)\n",
      " |-- cat65: string (nullable = true)\n",
      " |-- cat66: string (nullable = true)\n",
      " |-- cat67: string (nullable = true)\n",
      " |-- cat68: string (nullable = true)\n",
      " |-- cat69: string (nullable = true)\n",
      " |-- cat70: string (nullable = true)\n",
      " |-- cat71: string (nullable = true)\n",
      " |-- cat72: string (nullable = true)\n",
      " |-- cat73: string (nullable = true)\n",
      " |-- cat74: string (nullable = true)\n",
      " |-- cat75: string (nullable = true)\n",
      " |-- cat76: string (nullable = true)\n",
      " |-- cat77: string (nullable = true)\n",
      " |-- cat78: string (nullable = true)\n",
      " |-- cat79: string (nullable = true)\n",
      " |-- cat80: string (nullable = true)\n",
      " |-- cat81: string (nullable = true)\n",
      " |-- cat82: string (nullable = true)\n",
      " |-- cat83: string (nullable = true)\n",
      " |-- cat84: string (nullable = true)\n",
      " |-- cat85: string (nullable = true)\n",
      " |-- cat86: string (nullable = true)\n",
      " |-- cat87: string (nullable = true)\n",
      " |-- cat88: string (nullable = true)\n",
      " |-- cat89: string (nullable = true)\n",
      " |-- cat90: string (nullable = true)\n",
      " |-- cat91: string (nullable = true)\n",
      " |-- cat92: string (nullable = true)\n",
      " |-- cat93: string (nullable = true)\n",
      " |-- cat94: string (nullable = true)\n",
      " |-- cat95: string (nullable = true)\n",
      " |-- cat96: string (nullable = true)\n",
      " |-- cat97: string (nullable = true)\n",
      " |-- cat98: string (nullable = true)\n",
      " |-- cat99: string (nullable = true)\n",
      " |-- cat100: string (nullable = true)\n",
      " |-- cat101: string (nullable = true)\n",
      " |-- cat102: string (nullable = true)\n",
      " |-- cat103: string (nullable = true)\n",
      " |-- cat104: string (nullable = true)\n",
      " |-- cat105: string (nullable = true)\n",
      " |-- cat106: string (nullable = true)\n",
      " |-- cat107: string (nullable = true)\n",
      " |-- cat108: string (nullable = true)\n",
      " |-- cat109: string (nullable = true)\n",
      " |-- cat110: string (nullable = true)\n",
      " |-- cat111: string (nullable = true)\n",
      " |-- cat112: string (nullable = true)\n",
      " |-- cat113: string (nullable = true)\n",
      " |-- cat114: string (nullable = true)\n",
      " |-- cat115: string (nullable = true)\n",
      " |-- cat116: string (nullable = true)\n",
      " |-- cont1: double (nullable = true)\n",
      " |-- cont2: double (nullable = true)\n",
      " |-- cont3: double (nullable = true)\n",
      " |-- cont4: double (nullable = true)\n",
      " |-- cont5: double (nullable = true)\n",
      " |-- cont6: double (nullable = true)\n",
      " |-- cont7: double (nullable = true)\n",
      " |-- cont8: double (nullable = true)\n",
      " |-- cont9: double (nullable = true)\n",
      " |-- cont10: double (nullable = true)\n",
      " |-- cont11: double (nullable = true)\n",
      " |-- cont12: double (nullable = true)\n",
      " |-- cont13: double (nullable = true)\n",
      " |-- cont14: double (nullable = true)\n",
      " |-- loss: double (nullable = true)\n",
      " |-- _c132: string (nullable = true)\n",
      "\n"
     ]
    }
   ],
   "source": [
    "train_data.printSchema()"
   ]
  },
  {
   "cell_type": "code",
   "execution_count": 6,
   "metadata": {},
   "outputs": [
    {
     "data": {
      "text/plain": [
       "200866"
      ]
     },
     "execution_count": 6,
     "metadata": {},
     "output_type": "execute_result"
    }
   ],
   "source": [
    "train_data.count()"
   ]
  },
  {
   "cell_type": "code",
   "execution_count": 8,
   "metadata": {
    "collapsed": true
   },
   "outputs": [],
   "source": [
    "train_data = train_data.withColumnRenamed(\"loss\", \"label\")"
   ]
  },
  {
   "cell_type": "code",
   "execution_count": 9,
   "metadata": {
    "collapsed": true
   },
   "outputs": [],
   "source": [
    "train_data.createOrReplaceTempView(\"insurance\")"
   ]
  },
  {
   "cell_type": "code",
   "execution_count": 10,
   "metadata": {},
   "outputs": [
    {
     "name": "stdout",
     "output_type": "stream",
     "text": [
      "+-----------------+\n",
      "|         AVG_LOSS|\n",
      "+-----------------+\n",
      "|3036.251055901577|\n",
      "+-----------------+\n",
      "\n"
     ]
    }
   ],
   "source": [
    "spark.sql(\"SELECT avg(insurance.label) as AVG_LOSS FROM insurance\").show()"
   ]
  },
  {
   "cell_type": "code",
   "execution_count": 11,
   "metadata": {},
   "outputs": [
    {
     "name": "stdout",
     "output_type": "stream",
     "text": [
      "+--------+\n",
      "|MIN_LOSS|\n",
      "+--------+\n",
      "|    0.67|\n",
      "+--------+\n",
      "\n"
     ]
    }
   ],
   "source": [
    "spark.sql(\"SELECT min(insurance.label) as MIN_LOSS FROM insurance\").show()"
   ]
  },
  {
   "cell_type": "code",
   "execution_count": 12,
   "metadata": {},
   "outputs": [
    {
     "name": "stdout",
     "output_type": "stream",
     "text": [
      "+---------+\n",
      "| MAX_LOSS|\n",
      "+---------+\n",
      "|121012.25|\n",
      "+---------+\n",
      "\n"
     ]
    }
   ],
   "source": [
    "spark.sql(\"SELECT max(insurance.label) as MAX_LOSS FROM insurance\").show()"
   ]
  },
  {
   "cell_type": "code",
   "execution_count": null,
   "metadata": {
    "collapsed": true
   },
   "outputs": [],
   "source": []
  }
 ],
 "metadata": {
  "kernelspec": {
   "display_name": "Python 3",
   "language": "python",
   "name": "python3"
  },
  "language_info": {
   "codemirror_mode": {
    "name": "ipython",
    "version": 3
   },
   "file_extension": ".py",
   "mimetype": "text/x-python",
   "name": "python",
   "nbconvert_exporter": "python",
   "pygments_lexer": "ipython3",
   "version": "3.6.3"
  }
 },
 "nbformat": 4,
 "nbformat_minor": 2
}
